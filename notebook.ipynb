{
  "cells": [
    {
      "cell_type": "code",
      "execution_count": 1,
      "metadata": {
        "id": "07917efb"
      },
      "outputs": [],
      "source": [
        "import numpy as np\n",
        "import pandas as pd\n",
        "import os\n",
        "from sklearn.linear_model import LogisticRegression\n",
        "from sklearn.model_selection import train_test_split\n",
        "import sklearn.preprocessing as prep\n",
        "import matplotlib.pyplot as plt\n",
        "import tensorflow as tf\n",
        "from tensorflow import keras\n",
        "from tensorflow.keras.models import Sequential\n",
        "from tensorflow.keras.layers import Dense\n",
        "from tensorflow.keras import datasets, layers, models\n",
        "from tensorflow.keras.optimizers import SGD\n",
        "from sklearn.metrics import precision_recall_fscore_support\n",
        "import librosa"
      ],
      "id": "07917efb"
    },
    {
      "cell_type": "code",
      "execution_count": 2,
      "metadata": {
        "colab": {
          "base_uri": "https://localhost:8080/"
        },
        "id": "ZU82R4Ui32cc",
        "outputId": "f2997d51-e9a9-43d6-c87b-8bcd653c55e8"
      },
      "outputs": [
        {
          "output_type": "stream",
          "name": "stdout",
          "text": [
            "Drive already mounted at /content/drive; to attempt to forcibly remount, call drive.mount(\"/content/drive\", force_remount=True).\n"
          ]
        }
      ],
      "source": [
        "from google.colab import drive\n",
        "drive.mount('/content/drive')"
      ],
      "id": "ZU82R4Ui32cc"
    },
    {
      "cell_type": "code",
      "execution_count": 3,
      "metadata": {
        "id": "c83ee7a8"
      },
      "outputs": [],
      "source": [
        "files = pd.read_csv('/content/drive/MyDrive/mlsp/Audio_Classification-MLSP/annotations.csv')\n",
        "label = files['label']"
      ],
      "id": "c83ee7a8"
    },
    {
      "cell_type": "code",
      "source": [
        "tmp = [];\n",
        "test = [];\n",
        "tmp = os.listdir('/content/drive/MyDrive/test/Audio_Classification-MLSP-test/')\n",
        "files_names_test = tmp\n",
        "for i in tmp:\n",
        "    file_name = '/content/drive/MyDrive/test/Audio_Classification-MLSP-test/' + i;\n",
        "    test.append(np.load(file_name));"
      ],
      "metadata": {
        "id": "VUwQB9j5ARIy"
      },
      "id": "VUwQB9j5ARIy",
      "execution_count": 49,
      "outputs": []
    },
    {
      "cell_type": "code",
      "execution_count": 5,
      "metadata": {
        "id": "40224d1c"
      },
      "outputs": [],
      "source": [
        "ans = []\n",
        "for i in files['fname']:\n",
        "    file_name = '/content/drive/MyDrive/mlsp/Audio_Classification-MLSP/train/' + i;\n",
        "    ans.append(np.load(file_name));"
      ],
      "id": "40224d1c"
    },
    {
      "cell_type": "code",
      "execution_count": 6,
      "metadata": {
        "id": "-5EJ3DhVCWE-"
      },
      "outputs": [],
      "source": [
        "def mfcc(ans) :\n",
        "\n",
        "    sample_rate = sr = 44100;\n",
        "\n",
        "    ans = librosa.feature.mfcc(y=ans, sr=sample_rate, n_fft=2048, hop_length=512, n_mfcc=128, window=\"hann\")\n",
        "    ans = ans / np.max(np.abs(ans))\n",
        "\n",
        "    return ans"
      ],
      "id": "-5EJ3DhVCWE-"
    },
    {
      "cell_type": "code",
      "execution_count": 7,
      "metadata": {
        "id": "d2a9bdc8"
      },
      "outputs": [],
      "source": [
        "for i in range(len(ans)):\n",
        "    ans[i] = np.concatenate((ans[i], np.zeros(shape = (1, 128, 2584 - ans[i].shape[2]))), axis = 2)\n",
        "    ans[i] = ans[i].flatten();\n",
        "    ans[i] = mfcc(ans[i]);\n",
        "    ans[i] = ans[i].reshape(128, 647, 1);"
      ],
      "id": "d2a9bdc8"
    },
    {
      "cell_type": "code",
      "source": [
        "for i in range(len(test)):\n",
        "  test[i] = np.concatenate((test[i], np.zeros(shape = (1, 128, 2584 - test[i].shape[2]))), axis = 2)\n",
        "  test[i] = test[i].flatten();\n",
        "  test[i] = mfcc(test[i]);  \n",
        "  test[i] = test[i].reshape(128, 647, 1);"
      ],
      "metadata": {
        "id": "Uffl-IvrB_6S"
      },
      "id": "Uffl-IvrB_6S",
      "execution_count": 8,
      "outputs": []
    },
    {
      "cell_type": "code",
      "execution_count": 9,
      "metadata": {
        "id": "16e58c3f",
        "colab": {
          "base_uri": "https://localhost:8080/",
          "height": 270
        },
        "outputId": "c59f9f44-d4d2-49fe-dc48-ac33b337a9c8"
      },
      "outputs": [
        {
          "output_type": "execute_result",
          "data": {
            "text/plain": [
              "   Bark  Crying_and_sobbing  Doorbell  Knock  Meow  Microwave_oven  Shatter  \\\n",
              "0     1                   0         0      0     0               0        0   \n",
              "1     1                   0         0      0     0               0        0   \n",
              "2     1                   0         0      0     0               0        0   \n",
              "3     1                   0         0      0     0               0        0   \n",
              "4     1                   0         0      0     0               0        0   \n",
              "\n",
              "   Siren  Vehicle_horn_and_car_horn_and_honking  Walk_and_footsteps  \n",
              "0      0                                      0                   0  \n",
              "1      0                                      0                   0  \n",
              "2      0                                      0                   0  \n",
              "3      0                                      0                   0  \n",
              "4      0                                      0                   0  "
            ],
            "text/html": [
              "\n",
              "  <div id=\"df-3d7a90e7-1ad1-4e9f-86d8-5c4c588f083f\">\n",
              "    <div class=\"colab-df-container\">\n",
              "      <div>\n",
              "<style scoped>\n",
              "    .dataframe tbody tr th:only-of-type {\n",
              "        vertical-align: middle;\n",
              "    }\n",
              "\n",
              "    .dataframe tbody tr th {\n",
              "        vertical-align: top;\n",
              "    }\n",
              "\n",
              "    .dataframe thead th {\n",
              "        text-align: right;\n",
              "    }\n",
              "</style>\n",
              "<table border=\"1\" class=\"dataframe\">\n",
              "  <thead>\n",
              "    <tr style=\"text-align: right;\">\n",
              "      <th></th>\n",
              "      <th>Bark</th>\n",
              "      <th>Crying_and_sobbing</th>\n",
              "      <th>Doorbell</th>\n",
              "      <th>Knock</th>\n",
              "      <th>Meow</th>\n",
              "      <th>Microwave_oven</th>\n",
              "      <th>Shatter</th>\n",
              "      <th>Siren</th>\n",
              "      <th>Vehicle_horn_and_car_horn_and_honking</th>\n",
              "      <th>Walk_and_footsteps</th>\n",
              "    </tr>\n",
              "  </thead>\n",
              "  <tbody>\n",
              "    <tr>\n",
              "      <th>0</th>\n",
              "      <td>1</td>\n",
              "      <td>0</td>\n",
              "      <td>0</td>\n",
              "      <td>0</td>\n",
              "      <td>0</td>\n",
              "      <td>0</td>\n",
              "      <td>0</td>\n",
              "      <td>0</td>\n",
              "      <td>0</td>\n",
              "      <td>0</td>\n",
              "    </tr>\n",
              "    <tr>\n",
              "      <th>1</th>\n",
              "      <td>1</td>\n",
              "      <td>0</td>\n",
              "      <td>0</td>\n",
              "      <td>0</td>\n",
              "      <td>0</td>\n",
              "      <td>0</td>\n",
              "      <td>0</td>\n",
              "      <td>0</td>\n",
              "      <td>0</td>\n",
              "      <td>0</td>\n",
              "    </tr>\n",
              "    <tr>\n",
              "      <th>2</th>\n",
              "      <td>1</td>\n",
              "      <td>0</td>\n",
              "      <td>0</td>\n",
              "      <td>0</td>\n",
              "      <td>0</td>\n",
              "      <td>0</td>\n",
              "      <td>0</td>\n",
              "      <td>0</td>\n",
              "      <td>0</td>\n",
              "      <td>0</td>\n",
              "    </tr>\n",
              "    <tr>\n",
              "      <th>3</th>\n",
              "      <td>1</td>\n",
              "      <td>0</td>\n",
              "      <td>0</td>\n",
              "      <td>0</td>\n",
              "      <td>0</td>\n",
              "      <td>0</td>\n",
              "      <td>0</td>\n",
              "      <td>0</td>\n",
              "      <td>0</td>\n",
              "      <td>0</td>\n",
              "    </tr>\n",
              "    <tr>\n",
              "      <th>4</th>\n",
              "      <td>1</td>\n",
              "      <td>0</td>\n",
              "      <td>0</td>\n",
              "      <td>0</td>\n",
              "      <td>0</td>\n",
              "      <td>0</td>\n",
              "      <td>0</td>\n",
              "      <td>0</td>\n",
              "      <td>0</td>\n",
              "      <td>0</td>\n",
              "    </tr>\n",
              "  </tbody>\n",
              "</table>\n",
              "</div>\n",
              "      <button class=\"colab-df-convert\" onclick=\"convertToInteractive('df-3d7a90e7-1ad1-4e9f-86d8-5c4c588f083f')\"\n",
              "              title=\"Convert this dataframe to an interactive table.\"\n",
              "              style=\"display:none;\">\n",
              "        \n",
              "  <svg xmlns=\"http://www.w3.org/2000/svg\" height=\"24px\"viewBox=\"0 0 24 24\"\n",
              "       width=\"24px\">\n",
              "    <path d=\"M0 0h24v24H0V0z\" fill=\"none\"/>\n",
              "    <path d=\"M18.56 5.44l.94 2.06.94-2.06 2.06-.94-2.06-.94-.94-2.06-.94 2.06-2.06.94zm-11 1L8.5 8.5l.94-2.06 2.06-.94-2.06-.94L8.5 2.5l-.94 2.06-2.06.94zm10 10l.94 2.06.94-2.06 2.06-.94-2.06-.94-.94-2.06-.94 2.06-2.06.94z\"/><path d=\"M17.41 7.96l-1.37-1.37c-.4-.4-.92-.59-1.43-.59-.52 0-1.04.2-1.43.59L10.3 9.45l-7.72 7.72c-.78.78-.78 2.05 0 2.83L4 21.41c.39.39.9.59 1.41.59.51 0 1.02-.2 1.41-.59l7.78-7.78 2.81-2.81c.8-.78.8-2.07 0-2.86zM5.41 20L4 18.59l7.72-7.72 1.47 1.35L5.41 20z\"/>\n",
              "  </svg>\n",
              "      </button>\n",
              "      \n",
              "  <style>\n",
              "    .colab-df-container {\n",
              "      display:flex;\n",
              "      flex-wrap:wrap;\n",
              "      gap: 12px;\n",
              "    }\n",
              "\n",
              "    .colab-df-convert {\n",
              "      background-color: #E8F0FE;\n",
              "      border: none;\n",
              "      border-radius: 50%;\n",
              "      cursor: pointer;\n",
              "      display: none;\n",
              "      fill: #1967D2;\n",
              "      height: 32px;\n",
              "      padding: 0 0 0 0;\n",
              "      width: 32px;\n",
              "    }\n",
              "\n",
              "    .colab-df-convert:hover {\n",
              "      background-color: #E2EBFA;\n",
              "      box-shadow: 0px 1px 2px rgba(60, 64, 67, 0.3), 0px 1px 3px 1px rgba(60, 64, 67, 0.15);\n",
              "      fill: #174EA6;\n",
              "    }\n",
              "\n",
              "    [theme=dark] .colab-df-convert {\n",
              "      background-color: #3B4455;\n",
              "      fill: #D2E3FC;\n",
              "    }\n",
              "\n",
              "    [theme=dark] .colab-df-convert:hover {\n",
              "      background-color: #434B5C;\n",
              "      box-shadow: 0px 1px 3px 1px rgba(0, 0, 0, 0.15);\n",
              "      filter: drop-shadow(0px 1px 2px rgba(0, 0, 0, 0.3));\n",
              "      fill: #FFFFFF;\n",
              "    }\n",
              "  </style>\n",
              "\n",
              "      <script>\n",
              "        const buttonEl =\n",
              "          document.querySelector('#df-3d7a90e7-1ad1-4e9f-86d8-5c4c588f083f button.colab-df-convert');\n",
              "        buttonEl.style.display =\n",
              "          google.colab.kernel.accessAllowed ? 'block' : 'none';\n",
              "\n",
              "        async function convertToInteractive(key) {\n",
              "          const element = document.querySelector('#df-3d7a90e7-1ad1-4e9f-86d8-5c4c588f083f');\n",
              "          const dataTable =\n",
              "            await google.colab.kernel.invokeFunction('convertToInteractive',\n",
              "                                                     [key], {});\n",
              "          if (!dataTable) return;\n",
              "\n",
              "          const docLinkHtml = 'Like what you see? Visit the ' +\n",
              "            '<a target=\"_blank\" href=https://colab.research.google.com/notebooks/data_table.ipynb>data table notebook</a>'\n",
              "            + ' to learn more about interactive tables.';\n",
              "          element.innerHTML = '';\n",
              "          dataTable['output_type'] = 'display_data';\n",
              "          await google.colab.output.renderOutput(dataTable, element);\n",
              "          const docLink = document.createElement('div');\n",
              "          docLink.innerHTML = docLinkHtml;\n",
              "          element.appendChild(docLink);\n",
              "        }\n",
              "      </script>\n",
              "    </div>\n",
              "  </div>\n",
              "  "
            ]
          },
          "metadata": {},
          "execution_count": 9
        }
      ],
      "source": [
        "label = pd.get_dummies(label)\n",
        "label.head()"
      ],
      "id": "16e58c3f"
    },
    {
      "cell_type": "code",
      "execution_count": 10,
      "metadata": {
        "colab": {
          "base_uri": "https://localhost:8080/"
        },
        "id": "69320397",
        "outputId": "2e37a42b-7ec5-4365-fe2f-c8242b8f863a"
      },
      "outputs": [
        {
          "output_type": "execute_result",
          "data": {
            "text/plain": [
              "(201, 128, 647, 1)"
            ]
          },
          "metadata": {},
          "execution_count": 10
        }
      ],
      "source": [
        "ans = np.asarray(ans, dtype=np.float32)\n",
        "ans.shape\n",
        "test = np.asarray(test, dtype=np.float32)\n",
        "test.shape"
      ],
      "id": "69320397"
    },
    {
      "cell_type": "code",
      "execution_count": 11,
      "metadata": {
        "id": "872bbb50"
      },
      "outputs": [],
      "source": [
        "# train_x, test_x, train_y, test_y = train_test_split(ans, label, test_size = 0.20, random_state = 333)\n",
        "train_x = ans;\n",
        "train_y = label;\n",
        "test_x = test;"
      ],
      "id": "872bbb50"
    },
    {
      "cell_type": "code",
      "source": [
        "def details(true, pred):\n",
        "  result = precision_recall_fscore_support(true, pred, average='weighted')\n",
        "  print(print(\"Precision -> \", result[0] * 100, \"\\nRecall -> \", result[1] * 100, \"\\nF1 Score -> \", result[2] * 100));"
      ],
      "metadata": {
        "id": "guSNNVG01xxb"
      },
      "id": "guSNNVG01xxb",
      "execution_count": 12,
      "outputs": []
    },
    {
      "cell_type": "code",
      "execution_count": 13,
      "metadata": {
        "id": "daf09d33"
      },
      "outputs": [],
      "source": [
        "train_x_flatten = [];\n",
        "test_x_flatten = [];\n",
        "train_y_flatten = [];\n",
        "test_y_flatten = [];\n",
        "\n",
        "for i in range (train_x.shape[0]):\n",
        "    train_x_flatten.append(train_x[i].flatten())\n",
        "\n",
        "for i in range (test_x.shape[0]):\n",
        "    test_x_flatten.append(test_x[i].flatten())\n",
        "\n",
        "train_y_flatten = train_y.idxmax(axis=1)\n",
        "# test_y_flatten = test_y.idxmax(axis=1)\n",
        "\n",
        "train_x_flatten = np.asarray(train_x_flatten)\n",
        "test_x_flatten = np.asarray(test_x_flatten)"
      ],
      "id": "daf09d33"
    },
    {
      "cell_type": "code",
      "source": [
        "logistic_regression = LogisticRegression();\n",
        "logistic_regression.fit(train_x_flatten, train_y_flatten);\n",
        "# print(logistic_regression.score(test_x_flatten, test_y_flatten));\n",
        "\n",
        "pred_logistic = logistic_regression.predict(test_x_flatten)"
      ],
      "metadata": {
        "colab": {
          "base_uri": "https://localhost:8080/"
        },
        "id": "ppj72TvnjAme",
        "outputId": "a44260e8-2c43-4c95-ca87-da4ab483bcd8"
      },
      "id": "ppj72TvnjAme",
      "execution_count": 14,
      "outputs": [
        {
          "output_type": "stream",
          "name": "stderr",
          "text": [
            "/usr/local/lib/python3.7/dist-packages/sklearn/linear_model/_logistic.py:818: ConvergenceWarning: lbfgs failed to converge (status=1):\n",
            "STOP: TOTAL NO. of ITERATIONS REACHED LIMIT.\n",
            "\n",
            "Increase the number of iterations (max_iter) or scale the data as shown in:\n",
            "    https://scikit-learn.org/stable/modules/preprocessing.html\n",
            "Please also refer to the documentation for alternative solver options:\n",
            "    https://scikit-learn.org/stable/modules/linear_model.html#logistic-regression\n",
            "  extra_warning_msg=_LOGISTIC_SOLVER_CONVERGENCE_MSG,\n"
          ]
        }
      ]
    },
    {
      "cell_type": "code",
      "source": [
        "# details(test_y_flatten, pred_logistic);"
      ],
      "metadata": {
        "id": "Qo-BRYlOf4gw"
      },
      "id": "Qo-BRYlOf4gw",
      "execution_count": 15,
      "outputs": []
    },
    {
      "cell_type": "code",
      "execution_count": 16,
      "metadata": {
        "id": "VfqIjlUVO2S1"
      },
      "outputs": [],
      "source": [
        "# DNN Model\n",
        "\n",
        "\n",
        "# create model \n",
        "model = Sequential()\n",
        "model.add(Dense(64, input_shape=(82816, ), activation='relu'))\n",
        "model.add(Dense(32, activation='relu'))\n",
        "model.add(Dense(16, activation='relu'))\n",
        "model.add(Dense(10, activation='softmax'))\n",
        "\n",
        "\n",
        "# complie model\n",
        "model.compile(loss='categorical_crossentropy', optimizer='adam', metrics=['accuracy'])"
      ],
      "id": "VfqIjlUVO2S1"
    },
    {
      "cell_type": "code",
      "source": [
        "train_x_dnn = [];\n",
        "\n",
        "for i in range (train_x.shape[0]):\n",
        "    tmp = train_x[i].flatten();\n",
        "    train_x_dnn.append(tmp);\n",
        "train_x_dnn[0].shape\n",
        "\n",
        "train_x_dnn = np.asarray(train_x_dnn)"
      ],
      "metadata": {
        "id": "r6VUUighJEFX"
      },
      "id": "r6VUUighJEFX",
      "execution_count": 17,
      "outputs": []
    },
    {
      "cell_type": "code",
      "execution_count": 18,
      "metadata": {
        "id": "OVohDheBSaKX",
        "outputId": "2b9fb98e-187b-46f0-ab83-1ef7182173c5",
        "colab": {
          "base_uri": "https://localhost:8080/"
        }
      },
      "outputs": [
        {
          "output_type": "stream",
          "name": "stdout",
          "text": [
            "Epoch 1/20\n",
            "10/10 [==============================] - 3s 21ms/step - loss: 2.1771 - accuracy: 0.2180\n",
            "Epoch 2/20\n",
            "10/10 [==============================] - 0s 19ms/step - loss: 1.7747 - accuracy: 0.4190\n",
            "Epoch 3/20\n",
            "10/10 [==============================] - 0s 17ms/step - loss: 1.3533 - accuracy: 0.6140\n",
            "Epoch 4/20\n",
            "10/10 [==============================] - 0s 19ms/step - loss: 0.9542 - accuracy: 0.7650\n",
            "Epoch 5/20\n",
            "10/10 [==============================] - 0s 20ms/step - loss: 0.6482 - accuracy: 0.8720\n",
            "Epoch 6/20\n",
            "10/10 [==============================] - 0s 20ms/step - loss: 0.4356 - accuracy: 0.9220\n",
            "Epoch 7/20\n",
            "10/10 [==============================] - 0s 18ms/step - loss: 0.2901 - accuracy: 0.9600\n",
            "Epoch 8/20\n",
            "10/10 [==============================] - 0s 20ms/step - loss: 0.2029 - accuracy: 0.9720\n",
            "Epoch 9/20\n",
            "10/10 [==============================] - 0s 19ms/step - loss: 0.1435 - accuracy: 0.9830\n",
            "Epoch 10/20\n",
            "10/10 [==============================] - 0s 20ms/step - loss: 0.1006 - accuracy: 0.9880\n",
            "Epoch 11/20\n",
            "10/10 [==============================] - 0s 20ms/step - loss: 0.0751 - accuracy: 0.9940\n",
            "Epoch 12/20\n",
            "10/10 [==============================] - 0s 18ms/step - loss: 0.0550 - accuracy: 0.9980\n",
            "Epoch 13/20\n",
            "10/10 [==============================] - 0s 19ms/step - loss: 0.0411 - accuracy: 0.9970\n",
            "Epoch 14/20\n",
            "10/10 [==============================] - 0s 19ms/step - loss: 0.0313 - accuracy: 0.9980\n",
            "Epoch 15/20\n",
            "10/10 [==============================] - 0s 18ms/step - loss: 0.0256 - accuracy: 1.0000\n",
            "Epoch 16/20\n",
            "10/10 [==============================] - 0s 20ms/step - loss: 0.0215 - accuracy: 0.9990\n",
            "Epoch 17/20\n",
            "10/10 [==============================] - 0s 21ms/step - loss: 0.0169 - accuracy: 1.0000\n",
            "Epoch 18/20\n",
            "10/10 [==============================] - 0s 19ms/step - loss: 0.0142 - accuracy: 1.0000\n",
            "Epoch 19/20\n",
            "10/10 [==============================] - 0s 19ms/step - loss: 0.0121 - accuracy: 1.0000\n",
            "Epoch 20/20\n",
            "10/10 [==============================] - 0s 17ms/step - loss: 0.0105 - accuracy: 1.0000\n"
          ]
        },
        {
          "output_type": "execute_result",
          "data": {
            "text/plain": [
              "<keras.callbacks.History at 0x7f485021a850>"
            ]
          },
          "metadata": {},
          "execution_count": 18
        }
      ],
      "source": [
        "# DNN Model Fit\n",
        "model.fit(train_x_dnn, train_y, epochs=20, batch_size=100)"
      ],
      "id": "OVohDheBSaKX"
    },
    {
      "cell_type": "code",
      "execution_count": 41,
      "metadata": {
        "id": "jSrAbJGFs5wi"
      },
      "outputs": [],
      "source": [
        "# CNN Model\n",
        "\n",
        "\n",
        "# create model\n",
        "model = Sequential()\n",
        "model.add(layers.Conv2D(32, (3, 3), activation='relu', input_shape=(128, 647, 1)))\n",
        "model.add(layers.MaxPooling2D((2, 2)))\n",
        "model.add(layers.Dropout(0.25))\n",
        "model.add(layers.Conv2D(64, (3, 3), activation='relu', kernel_initializer='he_uniform'))\n",
        "model.add(layers.Conv2D(64, (3, 3), activation='relu', kernel_initializer='he_uniform'))\n",
        "model.add(layers.MaxPooling2D((2, 2)))\n",
        "model.add(layers.Flatten())\n",
        "model.add(layers.Dropout(0.25))\n",
        "model.add(Dense(100, activation='relu', kernel_initializer='he_uniform'))\n",
        "model.add(Dense(10, activation='softmax'))\n",
        "\n",
        "\n",
        "# compile model\n",
        "opt = SGD(learning_rate=0.01, momentum=0.9)\n",
        "model.compile(optimizer=opt, loss='categorical_crossentropy', metrics=['accuracy'])"
      ],
      "id": "jSrAbJGFs5wi"
    },
    {
      "cell_type": "code",
      "execution_count": 42,
      "metadata": {
        "colab": {
          "base_uri": "https://localhost:8080/"
        },
        "id": "5AzJKhEkTe6P",
        "outputId": "4cf531c8-e72c-4b87-b0e1-84a463fb3e74"
      },
      "outputs": [
        {
          "output_type": "stream",
          "name": "stdout",
          "text": [
            "Epoch 1/50\n",
            "16/16 [==============================] - 4s 210ms/step - loss: 2.3003 - accuracy: 0.0920\n",
            "Epoch 2/50\n",
            "16/16 [==============================] - 3s 210ms/step - loss: 2.2818 - accuracy: 0.1630\n",
            "Epoch 3/50\n",
            "16/16 [==============================] - 3s 215ms/step - loss: 2.2466 - accuracy: 0.1960\n",
            "Epoch 4/50\n",
            "16/16 [==============================] - 3s 214ms/step - loss: 2.2145 - accuracy: 0.2180\n",
            "Epoch 5/50\n",
            "16/16 [==============================] - 3s 209ms/step - loss: 2.1260 - accuracy: 0.2860\n",
            "Epoch 6/50\n",
            "16/16 [==============================] - 3s 209ms/step - loss: 1.9298 - accuracy: 0.3800\n",
            "Epoch 7/50\n",
            "16/16 [==============================] - 3s 208ms/step - loss: 1.7333 - accuracy: 0.4230\n",
            "Epoch 8/50\n",
            "16/16 [==============================] - 3s 210ms/step - loss: 1.6360 - accuracy: 0.4610\n",
            "Epoch 9/50\n",
            "16/16 [==============================] - 3s 210ms/step - loss: 1.4826 - accuracy: 0.5110\n",
            "Epoch 10/50\n",
            "16/16 [==============================] - 3s 210ms/step - loss: 1.3640 - accuracy: 0.5910\n",
            "Epoch 11/50\n",
            "16/16 [==============================] - 3s 210ms/step - loss: 1.2840 - accuracy: 0.5770\n",
            "Epoch 12/50\n",
            "16/16 [==============================] - 3s 210ms/step - loss: 1.1713 - accuracy: 0.6130\n",
            "Epoch 13/50\n",
            "16/16 [==============================] - 3s 210ms/step - loss: 1.1186 - accuracy: 0.6440\n",
            "Epoch 14/50\n",
            "16/16 [==============================] - 3s 210ms/step - loss: 1.0714 - accuracy: 0.6420\n",
            "Epoch 15/50\n",
            "16/16 [==============================] - 3s 210ms/step - loss: 1.0368 - accuracy: 0.6540\n",
            "Epoch 16/50\n",
            "16/16 [==============================] - 3s 210ms/step - loss: 0.9215 - accuracy: 0.6780\n",
            "Epoch 17/50\n",
            "16/16 [==============================] - 3s 209ms/step - loss: 0.9299 - accuracy: 0.6900\n",
            "Epoch 18/50\n",
            "16/16 [==============================] - 3s 209ms/step - loss: 0.8653 - accuracy: 0.7300\n",
            "Epoch 19/50\n",
            "16/16 [==============================] - 3s 208ms/step - loss: 0.8609 - accuracy: 0.7240\n",
            "Epoch 20/50\n",
            "16/16 [==============================] - 3s 208ms/step - loss: 0.8556 - accuracy: 0.7260\n",
            "Epoch 21/50\n",
            "16/16 [==============================] - 3s 207ms/step - loss: 0.7344 - accuracy: 0.7680\n",
            "Epoch 22/50\n",
            "16/16 [==============================] - 3s 208ms/step - loss: 0.6323 - accuracy: 0.8030\n",
            "Epoch 23/50\n",
            "16/16 [==============================] - 3s 208ms/step - loss: 0.6476 - accuracy: 0.7850\n",
            "Epoch 24/50\n",
            "16/16 [==============================] - 3s 208ms/step - loss: 0.5668 - accuracy: 0.8120\n",
            "Epoch 25/50\n",
            "16/16 [==============================] - 3s 207ms/step - loss: 0.4861 - accuracy: 0.8360\n",
            "Epoch 26/50\n",
            "16/16 [==============================] - 3s 208ms/step - loss: 0.6329 - accuracy: 0.8030\n",
            "Epoch 27/50\n",
            "16/16 [==============================] - 3s 209ms/step - loss: 0.5503 - accuracy: 0.8350\n",
            "Epoch 28/50\n",
            "16/16 [==============================] - 3s 208ms/step - loss: 0.4794 - accuracy: 0.8410\n",
            "Epoch 29/50\n",
            "16/16 [==============================] - 3s 208ms/step - loss: 0.3976 - accuracy: 0.8790\n",
            "Epoch 30/50\n",
            "16/16 [==============================] - 3s 211ms/step - loss: 0.3506 - accuracy: 0.8880\n",
            "Epoch 31/50\n",
            "16/16 [==============================] - 3s 209ms/step - loss: 0.3312 - accuracy: 0.8990\n",
            "Epoch 32/50\n",
            "16/16 [==============================] - 3s 210ms/step - loss: 0.3245 - accuracy: 0.8970\n",
            "Epoch 33/50\n",
            "16/16 [==============================] - 3s 211ms/step - loss: 0.2595 - accuracy: 0.9280\n",
            "Epoch 34/50\n",
            "16/16 [==============================] - 3s 209ms/step - loss: 0.2953 - accuracy: 0.8980\n",
            "Epoch 35/50\n",
            "16/16 [==============================] - 3s 210ms/step - loss: 0.2791 - accuracy: 0.9050\n",
            "Epoch 36/50\n",
            "16/16 [==============================] - 3s 210ms/step - loss: 0.2081 - accuracy: 0.9330\n",
            "Epoch 37/50\n",
            "16/16 [==============================] - 3s 210ms/step - loss: 0.1654 - accuracy: 0.9470\n",
            "Epoch 38/50\n",
            "16/16 [==============================] - 3s 210ms/step - loss: 0.1787 - accuracy: 0.9490\n",
            "Epoch 39/50\n",
            "16/16 [==============================] - 3s 209ms/step - loss: 0.1337 - accuracy: 0.9580\n",
            "Epoch 40/50\n",
            "16/16 [==============================] - 3s 210ms/step - loss: 0.0992 - accuracy: 0.9700\n",
            "Epoch 41/50\n",
            "16/16 [==============================] - 3s 210ms/step - loss: 0.1162 - accuracy: 0.9590\n",
            "Epoch 42/50\n",
            "16/16 [==============================] - 3s 210ms/step - loss: 0.1311 - accuracy: 0.9590\n",
            "Epoch 43/50\n",
            "16/16 [==============================] - 3s 209ms/step - loss: 0.1848 - accuracy: 0.9300\n",
            "Epoch 44/50\n",
            "16/16 [==============================] - 3s 208ms/step - loss: 0.1902 - accuracy: 0.9340\n",
            "Epoch 45/50\n",
            "16/16 [==============================] - 3s 210ms/step - loss: 0.1024 - accuracy: 0.9660\n",
            "Epoch 46/50\n",
            "16/16 [==============================] - 3s 209ms/step - loss: 0.0809 - accuracy: 0.9760\n",
            "Epoch 47/50\n",
            "16/16 [==============================] - 3s 210ms/step - loss: 0.0807 - accuracy: 0.9750\n",
            "Epoch 48/50\n",
            "16/16 [==============================] - 3s 210ms/step - loss: 0.0788 - accuracy: 0.9760\n",
            "Epoch 49/50\n",
            "16/16 [==============================] - 3s 210ms/step - loss: 0.0685 - accuracy: 0.9790\n",
            "Epoch 50/50\n",
            "16/16 [==============================] - 3s 209ms/step - loss: 0.0661 - accuracy: 0.9780\n"
          ]
        },
        {
          "output_type": "execute_result",
          "data": {
            "text/plain": [
              "<keras.callbacks.History at 0x7f02ac0b9450>"
            ]
          },
          "metadata": {},
          "execution_count": 42
        }
      ],
      "source": [
        "#CNN Model Fit\n",
        "model.fit(train_x, train_y, epochs=50, batch_size=64, verbose=1)"
      ],
      "id": "5AzJKhEkTe6P"
    },
    {
      "cell_type": "code",
      "execution_count": 43,
      "metadata": {
        "id": "z62g1dh2vAIC"
      },
      "outputs": [],
      "source": [
        "# CNN Accuracy\n",
        "# acc = model.evaluate(test_x, test_y)\n",
        "# print(acc[1] * 100)"
      ],
      "id": "z62g1dh2vAIC"
    },
    {
      "cell_type": "code",
      "execution_count": 44,
      "metadata": {
        "id": "AKASffazbwmv"
      },
      "outputs": [],
      "source": [
        "# CNN Predict\n",
        "pred_cnn = model.predict(test)"
      ],
      "id": "AKASffazbwmv"
    },
    {
      "cell_type": "code",
      "execution_count": 45,
      "metadata": {
        "id": "4pmbTB1tC3KY"
      },
      "outputs": [],
      "source": [
        "pred = []\n",
        "# true = []\n",
        "\n",
        "# for index, row in test_y.iterrows():\n",
        "#     for j in test_y.columns:\n",
        "#         if row[j] == 1:\n",
        "#             true.append(j);\n",
        "#             break;\n",
        "cnt = 0\n",
        "for i in range(201):\n",
        "    mx = ind = 0;\n",
        "    for j in range(10):\n",
        "        if pred_cnn[i][j] > mx :\n",
        "            mx = pred_cnn[i][j];\n",
        "            ind = j;\n",
        "    pred.append(label.columns[ind])\n",
        "    cnt = cnt + 1\n",
        "    \n",
        "\n",
        "pred = np.asarray(pred, dtype=str)\n",
        "# true = np.asarray(true, dtype=str)"
      ],
      "id": "4pmbTB1tC3KY"
    },
    {
      "cell_type": "code",
      "execution_count": 46,
      "metadata": {
        "id": "ZuUHSLWpZOim"
      },
      "outputs": [],
      "source": [
        "# details(true, pred)"
      ],
      "id": "ZuUHSLWpZOim"
    },
    {
      "cell_type": "code",
      "source": [
        "prediction2 = pd.DataFrame(files_names_test, columns=['file_name'])"
      ],
      "metadata": {
        "id": "yh8Ak_WnQJAV"
      },
      "id": "yh8Ak_WnQJAV",
      "execution_count": 65,
      "outputs": []
    },
    {
      "cell_type": "code",
      "source": [
        "prediction2 = pd.DataFrame(pred, columns=['prediction'])"
      ],
      "metadata": {
        "id": "GHDhjtu4T-T8"
      },
      "id": "GHDhjtu4T-T8",
      "execution_count": 62,
      "outputs": []
    },
    {
      "cell_type": "code",
      "source": [
        "prediction2['prediction'] = pred"
      ],
      "metadata": {
        "id": "rILxjFIMVE_E"
      },
      "id": "rILxjFIMVE_E",
      "execution_count": 66,
      "outputs": []
    },
    {
      "cell_type": "code",
      "source": [
        "prediction2.to_csv('prediction.csv')"
      ],
      "metadata": {
        "id": "CocJLFb5WDnv"
      },
      "id": "CocJLFb5WDnv",
      "execution_count": 69,
      "outputs": []
    },
    {
      "cell_type": "code",
      "source": [
        "prediction2.head()"
      ],
      "metadata": {
        "id": "o4-CUA3SVR-x",
        "outputId": "17a39a5e-f984-4bcf-860d-a9284d892b0d",
        "colab": {
          "base_uri": "https://localhost:8080/",
          "height": 206
        }
      },
      "id": "o4-CUA3SVR-x",
      "execution_count": 64,
      "outputs": [
        {
          "output_type": "execute_result",
          "data": {
            "text/plain": [
              "       prediction                 field\n",
              "0  Microwave_oven  MLSP_test1451403.npy\n",
              "1  Microwave_oven  MLSP_test1443477.npy\n",
              "2  Microwave_oven   MLSP_test140846.npy\n",
              "3  Microwave_oven  MLSP_test1379148.npy\n",
              "4  Microwave_oven  MLSP_test1404304.npy"
            ],
            "text/html": [
              "\n",
              "  <div id=\"df-3f37a373-b7b9-4a61-ab53-3981e4630170\">\n",
              "    <div class=\"colab-df-container\">\n",
              "      <div>\n",
              "<style scoped>\n",
              "    .dataframe tbody tr th:only-of-type {\n",
              "        vertical-align: middle;\n",
              "    }\n",
              "\n",
              "    .dataframe tbody tr th {\n",
              "        vertical-align: top;\n",
              "    }\n",
              "\n",
              "    .dataframe thead th {\n",
              "        text-align: right;\n",
              "    }\n",
              "</style>\n",
              "<table border=\"1\" class=\"dataframe\">\n",
              "  <thead>\n",
              "    <tr style=\"text-align: right;\">\n",
              "      <th></th>\n",
              "      <th>prediction</th>\n",
              "      <th>field</th>\n",
              "    </tr>\n",
              "  </thead>\n",
              "  <tbody>\n",
              "    <tr>\n",
              "      <th>0</th>\n",
              "      <td>Microwave_oven</td>\n",
              "      <td>MLSP_test1451403.npy</td>\n",
              "    </tr>\n",
              "    <tr>\n",
              "      <th>1</th>\n",
              "      <td>Microwave_oven</td>\n",
              "      <td>MLSP_test1443477.npy</td>\n",
              "    </tr>\n",
              "    <tr>\n",
              "      <th>2</th>\n",
              "      <td>Microwave_oven</td>\n",
              "      <td>MLSP_test140846.npy</td>\n",
              "    </tr>\n",
              "    <tr>\n",
              "      <th>3</th>\n",
              "      <td>Microwave_oven</td>\n",
              "      <td>MLSP_test1379148.npy</td>\n",
              "    </tr>\n",
              "    <tr>\n",
              "      <th>4</th>\n",
              "      <td>Microwave_oven</td>\n",
              "      <td>MLSP_test1404304.npy</td>\n",
              "    </tr>\n",
              "  </tbody>\n",
              "</table>\n",
              "</div>\n",
              "      <button class=\"colab-df-convert\" onclick=\"convertToInteractive('df-3f37a373-b7b9-4a61-ab53-3981e4630170')\"\n",
              "              title=\"Convert this dataframe to an interactive table.\"\n",
              "              style=\"display:none;\">\n",
              "        \n",
              "  <svg xmlns=\"http://www.w3.org/2000/svg\" height=\"24px\"viewBox=\"0 0 24 24\"\n",
              "       width=\"24px\">\n",
              "    <path d=\"M0 0h24v24H0V0z\" fill=\"none\"/>\n",
              "    <path d=\"M18.56 5.44l.94 2.06.94-2.06 2.06-.94-2.06-.94-.94-2.06-.94 2.06-2.06.94zm-11 1L8.5 8.5l.94-2.06 2.06-.94-2.06-.94L8.5 2.5l-.94 2.06-2.06.94zm10 10l.94 2.06.94-2.06 2.06-.94-2.06-.94-.94-2.06-.94 2.06-2.06.94z\"/><path d=\"M17.41 7.96l-1.37-1.37c-.4-.4-.92-.59-1.43-.59-.52 0-1.04.2-1.43.59L10.3 9.45l-7.72 7.72c-.78.78-.78 2.05 0 2.83L4 21.41c.39.39.9.59 1.41.59.51 0 1.02-.2 1.41-.59l7.78-7.78 2.81-2.81c.8-.78.8-2.07 0-2.86zM5.41 20L4 18.59l7.72-7.72 1.47 1.35L5.41 20z\"/>\n",
              "  </svg>\n",
              "      </button>\n",
              "      \n",
              "  <style>\n",
              "    .colab-df-container {\n",
              "      display:flex;\n",
              "      flex-wrap:wrap;\n",
              "      gap: 12px;\n",
              "    }\n",
              "\n",
              "    .colab-df-convert {\n",
              "      background-color: #E8F0FE;\n",
              "      border: none;\n",
              "      border-radius: 50%;\n",
              "      cursor: pointer;\n",
              "      display: none;\n",
              "      fill: #1967D2;\n",
              "      height: 32px;\n",
              "      padding: 0 0 0 0;\n",
              "      width: 32px;\n",
              "    }\n",
              "\n",
              "    .colab-df-convert:hover {\n",
              "      background-color: #E2EBFA;\n",
              "      box-shadow: 0px 1px 2px rgba(60, 64, 67, 0.3), 0px 1px 3px 1px rgba(60, 64, 67, 0.15);\n",
              "      fill: #174EA6;\n",
              "    }\n",
              "\n",
              "    [theme=dark] .colab-df-convert {\n",
              "      background-color: #3B4455;\n",
              "      fill: #D2E3FC;\n",
              "    }\n",
              "\n",
              "    [theme=dark] .colab-df-convert:hover {\n",
              "      background-color: #434B5C;\n",
              "      box-shadow: 0px 1px 3px 1px rgba(0, 0, 0, 0.15);\n",
              "      filter: drop-shadow(0px 1px 2px rgba(0, 0, 0, 0.3));\n",
              "      fill: #FFFFFF;\n",
              "    }\n",
              "  </style>\n",
              "\n",
              "      <script>\n",
              "        const buttonEl =\n",
              "          document.querySelector('#df-3f37a373-b7b9-4a61-ab53-3981e4630170 button.colab-df-convert');\n",
              "        buttonEl.style.display =\n",
              "          google.colab.kernel.accessAllowed ? 'block' : 'none';\n",
              "\n",
              "        async function convertToInteractive(key) {\n",
              "          const element = document.querySelector('#df-3f37a373-b7b9-4a61-ab53-3981e4630170');\n",
              "          const dataTable =\n",
              "            await google.colab.kernel.invokeFunction('convertToInteractive',\n",
              "                                                     [key], {});\n",
              "          if (!dataTable) return;\n",
              "\n",
              "          const docLinkHtml = 'Like what you see? Visit the ' +\n",
              "            '<a target=\"_blank\" href=https://colab.research.google.com/notebooks/data_table.ipynb>data table notebook</a>'\n",
              "            + ' to learn more about interactive tables.';\n",
              "          element.innerHTML = '';\n",
              "          dataTable['output_type'] = 'display_data';\n",
              "          await google.colab.output.renderOutput(dataTable, element);\n",
              "          const docLink = document.createElement('div');\n",
              "          docLink.innerHTML = docLinkHtml;\n",
              "          element.appendChild(docLink);\n",
              "        }\n",
              "      </script>\n",
              "    </div>\n",
              "  </div>\n",
              "  "
            ]
          },
          "metadata": {},
          "execution_count": 64
        }
      ]
    },
    {
      "cell_type": "code",
      "source": [],
      "metadata": {
        "id": "_9f0H8SKVhJn"
      },
      "id": "_9f0H8SKVhJn",
      "execution_count": null,
      "outputs": []
    }
  ],
  "metadata": {
    "accelerator": "GPU",
    "colab": {
      "collapsed_sections": [],
      "provenance": []
    },
    "kernelspec": {
      "display_name": "Python 3 (ipykernel)",
      "language": "python",
      "name": "python3"
    },
    "language_info": {
      "codemirror_mode": {
        "name": "ipython",
        "version": 3
      },
      "file_extension": ".py",
      "mimetype": "text/x-python",
      "name": "python",
      "nbconvert_exporter": "python",
      "pygments_lexer": "ipython3",
      "version": "3.9.5"
    }
  },
  "nbformat": 4,
  "nbformat_minor": 5
}